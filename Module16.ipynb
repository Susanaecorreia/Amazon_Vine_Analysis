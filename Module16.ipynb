{
  "nbformat": 4,
  "nbformat_minor": 0,
  "metadata": {
    "colab": {
      "name": "Module16.ipynb",
      "provenance": [],
      "collapsed_sections": []
    },
    "kernelspec": {
      "name": "python3",
      "display_name": "Python 3"
    },
    "language_info": {
      "name": "python"
    }
  },
  "cells": [
    {
      "cell_type": "code",
      "metadata": {
        "colab": {
          "base_uri": "https://localhost:8080/"
        },
        "id": "DDdmaVZGF4Pz",
        "outputId": "5fef660c-3ab1-489d-9e70-297e42f71fdc"
      },
      "source": [
        "import os\n",
        "# Find the latest version of spark 3.0  from http://www-us.apache.org/dist/spark/ and enter as the spark version\n",
        "# For example:\n",
        "# spark_version = 'spark-3.0.2'\n",
        "spark_version = 'spark-3.1.2'\n",
        "os.environ['SPARK_VERSION']=spark_version\n",
        "\n",
        "# Install Spark and Java\n",
        "!apt-get update\n",
        "!apt-get install openjdk-11-jdk-headless -qq > /dev/null\n",
        "!wget -q http://www-us.apache.org/dist/spark/$SPARK_VERSION/$SPARK_VERSION-bin-hadoop2.7.tgz\n",
        "!tar xf $SPARK_VERSION-bin-hadoop2.7.tgz\n",
        "!pip install -q findspark\n",
        "\n",
        "# Set Environment Variables\n",
        "import os\n",
        "os.environ[\"JAVA_HOME\"] = \"/usr/lib/jvm/java-11-openjdk-amd64\"\n",
        "os.environ[\"SPARK_HOME\"] = f\"/content/{spark_version}-bin-hadoop2.7\"\n",
        "\n",
        "# Start a SparkSession\n",
        "import findspark\n",
        "findspark.init()"
      ],
      "execution_count": null,
      "outputs": [
        {
          "output_type": "stream",
          "text": [
            "\r0% [Working]\r            \rIgn:1 https://developer.download.nvidia.com/compute/cuda/repos/ubuntu1804/x86_64  InRelease\n",
            "\r0% [Connecting to archive.ubuntu.com] [Connecting to security.ubuntu.com] [Conn\r                                                                               \rIgn:2 https://developer.download.nvidia.com/compute/machine-learning/repos/ubuntu1804/x86_64  InRelease\n",
            "\r0% [Connecting to archive.ubuntu.com] [Connecting to security.ubuntu.com] [Wait\r                                                                               \rGet:3 https://cloud.r-project.org/bin/linux/ubuntu bionic-cran40/ InRelease [3,626 B]\n",
            "\r0% [Connecting to archive.ubuntu.com] [Connecting to security.ubuntu.com] [3 In\r0% [Connecting to archive.ubuntu.com] [Connecting to security.ubuntu.com] [Conn\r                                                                               \rHit:4 https://developer.download.nvidia.com/compute/cuda/repos/ubuntu1804/x86_64  Release\n",
            "Hit:5 https://developer.download.nvidia.com/compute/machine-learning/repos/ubuntu1804/x86_64  Release\n",
            "Get:6 http://security.ubuntu.com/ubuntu bionic-security InRelease [88.7 kB]\n",
            "Hit:7 http://archive.ubuntu.com/ubuntu bionic InRelease\n",
            "Get:8 http://ppa.launchpad.net/c2d4u.team/c2d4u4.0+/ubuntu bionic InRelease [15.9 kB]\n",
            "Get:10 http://archive.ubuntu.com/ubuntu bionic-updates InRelease [88.7 kB]\n",
            "Hit:12 http://ppa.launchpad.net/cran/libgit2/ubuntu bionic InRelease\n",
            "Get:13 http://archive.ubuntu.com/ubuntu bionic-backports InRelease [74.6 kB]\n",
            "Get:14 http://security.ubuntu.com/ubuntu bionic-security/universe amd64 Packages [1,414 kB]\n",
            "Get:15 http://ppa.launchpad.net/deadsnakes/ppa/ubuntu bionic InRelease [15.9 kB]\n",
            "Get:16 http://security.ubuntu.com/ubuntu bionic-security/main amd64 Packages [2,184 kB]\n",
            "Hit:17 http://ppa.launchpad.net/graphics-drivers/ppa/ubuntu bionic InRelease\n",
            "Get:18 http://security.ubuntu.com/ubuntu bionic-security/restricted amd64 Packages [450 kB]\n",
            "Get:19 http://archive.ubuntu.com/ubuntu bionic-updates/restricted amd64 Packages [480 kB]\n",
            "Get:20 http://ppa.launchpad.net/c2d4u.team/c2d4u4.0+/ubuntu bionic/main Sources [1,770 kB]\n",
            "Get:21 http://archive.ubuntu.com/ubuntu bionic-updates/universe amd64 Packages [2,184 kB]\n",
            "Get:22 http://archive.ubuntu.com/ubuntu bionic-updates/multiverse amd64 Packages [33.5 kB]\n",
            "Get:23 http://archive.ubuntu.com/ubuntu bionic-updates/main amd64 Packages [2,616 kB]\n",
            "Get:24 http://ppa.launchpad.net/c2d4u.team/c2d4u4.0+/ubuntu bionic/main amd64 Packages [906 kB]\n",
            "Get:25 http://ppa.launchpad.net/deadsnakes/ppa/ubuntu bionic/main amd64 Packages [40.9 kB]\n",
            "Fetched 12.4 MB in 4s (2,863 kB/s)\n",
            "Reading package lists... Done\n"
          ],
          "name": "stdout"
        }
      ]
    },
    {
      "cell_type": "code",
      "metadata": {
        "id": "JOVP-skrJYc0"
      },
      "source": [
        "# Start Spark session\n",
        "from pyspark.sql import SparkSession\n",
        "spark = SparkSession.builder.appName(\"DataFrameBasics\").getOrCreate()"
      ],
      "execution_count": null,
      "outputs": []
    },
    {
      "cell_type": "code",
      "metadata": {
        "colab": {
          "base_uri": "https://localhost:8080/"
        },
        "id": "UZy1Wje4bFDA",
        "outputId": "0e5343ec-8a26-47c1-b628-80d677e44735"
      },
      "source": [
        "dataframe = spark.createDataFrame([\n",
        "                                   (0, \"laskdjf;laskdjfals\"),\n",
        "                                   (1, \"aksdjflkasjf\"),\n",
        "                                   (2, \"dfalskdj;laskdj\")\n",
        "                                   ], [\"id\", \"words\"])\n",
        "dataframe.show()"
      ],
      "execution_count": null,
      "outputs": [
        {
          "output_type": "stream",
          "text": [
            "+---+------------------+\n",
            "| id|             words|\n",
            "+---+------------------+\n",
            "|  0|laskdjf;laskdjfals|\n",
            "|  1|      aksdjflkasjf|\n",
            "|  2|   dfalskdj;laskdj|\n",
            "+---+------------------+\n",
            "\n"
          ],
          "name": "stdout"
        }
      ]
    },
    {
      "cell_type": "code",
      "metadata": {
        "colab": {
          "base_uri": "https://localhost:8080/"
        },
        "id": "HreFrJKbbFNs",
        "outputId": "715af4b7-28bf-4492-870b-30add8379cfb"
      },
      "source": [
        "# Read in data from S3 Buckets\n",
        "from pyspark import SparkFiles\n",
        "url = \"https://s3.amazonaws.com/dataviz-curriculum/day_1/food.csv\"\n",
        "spark.sparkContext.addFile(url)\n",
        "df = spark.read.csv(SparkFiles.get(\"food.csv\"), sep=\",\", header=True)\n",
        "df.show()"
      ],
      "execution_count": null,
      "outputs": [
        {
          "output_type": "stream",
          "text": [
            "+-------+-----+\n",
            "|   food|price|\n",
            "+-------+-----+\n",
            "|  pizza|    0|\n",
            "|  sushi|   12|\n",
            "|chinese|   10|\n",
            "+-------+-----+\n",
            "\n"
          ],
          "name": "stdout"
        }
      ]
    },
    {
      "cell_type": "code",
      "metadata": {
        "colab": {
          "base_uri": "https://localhost:8080/"
        },
        "id": "IttAo3jZbFVp",
        "outputId": "99dc6045-297a-49d0-ee27-870ed0870d93"
      },
      "source": [
        "# Print our schema\n",
        "df.printSchema()"
      ],
      "execution_count": null,
      "outputs": [
        {
          "output_type": "stream",
          "text": [
            "root\n",
            " |-- food: string (nullable = true)\n",
            " |-- price: string (nullable = true)\n",
            "\n"
          ],
          "name": "stdout"
        }
      ]
    },
    {
      "cell_type": "code",
      "metadata": {
        "colab": {
          "base_uri": "https://localhost:8080/"
        },
        "id": "pZG6ZREPbFY4",
        "outputId": "1dfd5312-7872-4e4d-dd01-513c74245900"
      },
      "source": [
        "df.columns"
      ],
      "execution_count": null,
      "outputs": [
        {
          "output_type": "execute_result",
          "data": {
            "text/plain": [
              "['food', 'price']"
            ]
          },
          "metadata": {
            "tags": []
          },
          "execution_count": 6
        }
      ]
    },
    {
      "cell_type": "code",
      "metadata": {
        "colab": {
          "base_uri": "https://localhost:8080/"
        },
        "id": "lp45f2z-bFbh",
        "outputId": "d272b116-ae84-465c-9bed-a7a080c81774"
      },
      "source": [
        "df.describe()"
      ],
      "execution_count": null,
      "outputs": [
        {
          "output_type": "execute_result",
          "data": {
            "text/plain": [
              "DataFrame[summary: string, food: string, price: string]"
            ]
          },
          "metadata": {
            "tags": []
          },
          "execution_count": 7
        }
      ]
    },
    {
      "cell_type": "code",
      "metadata": {
        "id": "OTT_NdDUbFeS"
      },
      "source": [
        "# Import struct fields that we can use\n",
        "from pyspark.sql.types import StructField, StringType, IntegerType, StructType"
      ],
      "execution_count": null,
      "outputs": []
    },
    {
      "cell_type": "code",
      "metadata": {
        "colab": {
          "base_uri": "https://localhost:8080/"
        },
        "id": "C9gM__bVfx9d",
        "outputId": "ee6a7249-6cf1-46be-a50b-be461c735825"
      },
      "source": [
        "# Next we need to create the list of struct fields\n",
        "schema = [StructField(\"food\", StringType(), True), StructField(\"price\", IntegerType(), True),]\n",
        "schema"
      ],
      "execution_count": null,
      "outputs": [
        {
          "output_type": "execute_result",
          "data": {
            "text/plain": [
              "[StructField(food,StringType,true), StructField(price,IntegerType,true)]"
            ]
          },
          "metadata": {
            "tags": []
          },
          "execution_count": 9
        }
      ]
    },
    {
      "cell_type": "code",
      "metadata": {
        "colab": {
          "base_uri": "https://localhost:8080/"
        },
        "id": "jEEJK7nsfyAy",
        "outputId": "2410cdc4-5940-4bbc-a976-d5fb759c5480"
      },
      "source": [
        "# Pass in our fields\n",
        "final = StructType(fields=schema)\n",
        "final"
      ],
      "execution_count": null,
      "outputs": [
        {
          "output_type": "execute_result",
          "data": {
            "text/plain": [
              "StructType(List(StructField(food,StringType,true),StructField(price,IntegerType,true)))"
            ]
          },
          "metadata": {
            "tags": []
          },
          "execution_count": 10
        }
      ]
    },
    {
      "cell_type": "code",
      "metadata": {
        "colab": {
          "base_uri": "https://localhost:8080/"
        },
        "id": "K8p8ElGofyE8",
        "outputId": "8e55af50-d39f-44f3-b339-18461c414b3f"
      },
      "source": [
        "# Read our data with our new schema\n",
        "dataframe = spark.read.csv(SparkFiles.get(\"food.csv\"), schema=final, sep=\",\", header=True)\n",
        "dataframe.printSchema()"
      ],
      "execution_count": null,
      "outputs": [
        {
          "output_type": "stream",
          "text": [
            "root\n",
            " |-- food: string (nullable = true)\n",
            " |-- price: integer (nullable = true)\n",
            "\n"
          ],
          "name": "stdout"
        }
      ]
    },
    {
      "cell_type": "code",
      "metadata": {
        "colab": {
          "base_uri": "https://localhost:8080/"
        },
        "id": "y-hJ_b2JfyHV",
        "outputId": "8149b2d0-0b23-4b2c-9dca-bd308e134f37"
      },
      "source": [
        "# Add new column\n",
        "dataframe.withColumn('newprice', dataframe['price']).show()\n",
        "# Update column name\n",
        "dataframe.withColumnRenamed('price','newerprice').show()\n",
        "# Double the price\n",
        "dataframe.withColumn('doubleprice',dataframe['price']*2).show()\n",
        "# Add a dollar to the price\n",
        "dataframe.withColumn('add_one_dollar',dataframe['price']+1).show()\n",
        "# Half the price\n",
        "dataframe.withColumn('half_price',dataframe['price']/2).show()"
      ],
      "execution_count": null,
      "outputs": [
        {
          "output_type": "stream",
          "text": [
            "+-------+-----+--------+\n",
            "|   food|price|newprice|\n",
            "+-------+-----+--------+\n",
            "|  pizza|    0|       0|\n",
            "|  sushi|   12|      12|\n",
            "|chinese|   10|      10|\n",
            "+-------+-----+--------+\n",
            "\n",
            "+-------+----------+\n",
            "|   food|newerprice|\n",
            "+-------+----------+\n",
            "|  pizza|         0|\n",
            "|  sushi|        12|\n",
            "|chinese|        10|\n",
            "+-------+----------+\n",
            "\n",
            "+-------+-----+-----------+\n",
            "|   food|price|doubleprice|\n",
            "+-------+-----+-----------+\n",
            "|  pizza|    0|          0|\n",
            "|  sushi|   12|         24|\n",
            "|chinese|   10|         20|\n",
            "+-------+-----+-----------+\n",
            "\n",
            "+-------+-----+--------------+\n",
            "|   food|price|add_one_dollar|\n",
            "+-------+-----+--------------+\n",
            "|  pizza|    0|             1|\n",
            "|  sushi|   12|            13|\n",
            "|chinese|   10|            11|\n",
            "+-------+-----+--------------+\n",
            "\n",
            "+-------+-----+----------+\n",
            "|   food|price|half_price|\n",
            "+-------+-----+----------+\n",
            "|  pizza|    0|       0.0|\n",
            "|  sushi|   12|       6.0|\n",
            "|chinese|   10|       5.0|\n",
            "+-------+-----+----------+\n",
            "\n"
          ],
          "name": "stdout"
        }
      ]
    },
    {
      "cell_type": "code",
      "metadata": {
        "colab": {
          "base_uri": "https://localhost:8080/"
        },
        "id": "a5wCnlDlfyJ9",
        "outputId": "568f7aec-f23b-4b3e-b2a1-55d1c00b8a80"
      },
      "source": [
        "# Read in data from S3 Buckets\n",
        "from pyspark import SparkFiles\n",
        "url =\"https://s3.amazonaws.com/dataviz-curriculum/day_1/wine.csv\"\n",
        "spark.sparkContext.addFile(url)\n",
        "df = spark.read.csv(SparkFiles.get(\"wine.csv\"), sep=\",\", header=True)\n",
        "\n",
        "# Show DataFrame\n",
        "df.show()"
      ],
      "execution_count": null,
      "outputs": [
        {
          "output_type": "stream",
          "text": [
            "+-------+--------------------+--------------------+------+-----+------------------+--------------------+-----------------+------------------+--------------------+\n",
            "|country|         description|         designation|points|price|          province|            region_1|         region_2|           variety|              winery|\n",
            "+-------+--------------------+--------------------+------+-----+------------------+--------------------+-----------------+------------------+--------------------+\n",
            "|     US|This tremendous 1...|   Martha's Vineyard|    96|  235|        California|         Napa Valley|             Napa|Cabernet Sauvignon|               Heitz|\n",
            "|  Spain|Ripe aromas of fi...|Carodorum Selecci...|    96|  110|    Northern Spain|                Toro|             null|     Tinta de Toro|Bodega Carmen Rod...|\n",
            "|     US|Mac Watson honors...|Special Selected ...|    96|   90|        California|      Knights Valley|           Sonoma|   Sauvignon Blanc|            Macauley|\n",
            "|     US|This spent 20 mon...|             Reserve|    96|   65|            Oregon|   Willamette Valley|Willamette Valley|        Pinot Noir|               Ponzi|\n",
            "| France|This is the top w...|         La Br��lade|    95|   66|          Provence|              Bandol|             null|Provence red blend|Domaine de la B̩gude|\n",
            "|  Spain|Deep, dense and p...|           Numanthia|    95|   73|    Northern Spain|                Toro|             null|     Tinta de Toro|           Numanthia|\n",
            "|  Spain|Slightly gritty b...|          San Rom��n|    95|   65|    Northern Spain|                Toro|             null|     Tinta de Toro|            Maurodos|\n",
            "|  Spain|Lush cedary black...|Carodorum �_nico ...|    95|  110|    Northern Spain|                Toro|             null|     Tinta de Toro|Bodega Carmen Rod...|\n",
            "|     US|This re-named vin...|              Silice|    95|   65|            Oregon|  Chehalem Mountains|Willamette Valley|        Pinot Noir|           Bergstr̦m|\n",
            "|     US|The producer sour...|Gap's Crown Vineyard|    95|   60|        California|        Sonoma Coast|           Sonoma|        Pinot Noir|           Blue Farm|\n",
            "|  Italy|Elegance, complex...|  Ronco della Chiesa|    95|   80|Northeastern Italy|              Collio|             null|          Friulano|    Borgo del Tiglio|\n",
            "|     US|From 18-year-old ...|Estate Vineyard W...|    95|   48|            Oregon|        Ribbon Ridge|Willamette Valley|        Pinot Noir|Patricia Green Ce...|\n",
            "|     US|A standout even i...|      Weber Vineyard|    95|   48|            Oregon|        Dundee Hills|Willamette Valley|        Pinot Noir|Patricia Green Ce...|\n",
            "| France|This wine is in p...|Ch̢teau Montus Pr...|    95|   90|  Southwest France|             Madiran|             null|            Tannat|   Vignobles Brumont|\n",
            "|     US|With its sophisti...|      Grace Vineyard|    95|  185|            Oregon|        Dundee Hills|Willamette Valley|        Pinot Noir|      Domaine Serene|\n",
            "|     US|First made in 200...|              Sigrid|    95|   90|            Oregon|   Willamette Valley|Willamette Valley|        Chardonnay|           Bergstr̦m|\n",
            "|     US|This blockbuster,...|     Rainin Vineyard|    95|  325|        California|Diamond Mountain ...|             Napa|Cabernet Sauvignon|                Hall|\n",
            "|  Spain|Nicely oaked blac...|6 A̱os Reserva Pr...|    95|   80|    Northern Spain|    Ribera del Duero|             null|       Tempranillo|            Valduero|\n",
            "| France|Coming from a sev...|       Le Pigeonnier|    95|  290|  Southwest France|              Cahors|             null|            Malbec|  Ch̢teau Lagr̩zette|\n",
            "|     US|This fresh and li...|Gap's Crown Vineyard|    95|   75|        California|        Sonoma Coast|           Sonoma|        Pinot Noir|        Gary Farrell|\n",
            "+-------+--------------------+--------------------+------+-----+------------------+--------------------+-----------------+------------------+--------------------+\n",
            "only showing top 20 rows\n",
            "\n"
          ],
          "name": "stdout"
        }
      ]
    },
    {
      "cell_type": "code",
      "metadata": {
        "colab": {
          "base_uri": "https://localhost:8080/"
        },
        "id": "fof4zicDfyMX",
        "outputId": "4b44a44e-eb06-4199-ecf7-9df2eebd6bd3"
      },
      "source": [
        "# Order a DataFrame by ascending values\n",
        "df.orderBy(df[\"points\"].desc())"
      ],
      "execution_count": null,
      "outputs": [
        {
          "output_type": "execute_result",
          "data": {
            "text/plain": [
              "DataFrame[country: string, description: string, designation: string, points: string, price: string, province: string, region_1: string, region_2: string, variety: string, winery: string]"
            ]
          },
          "metadata": {
            "tags": []
          },
          "execution_count": 14
        }
      ]
    },
    {
      "cell_type": "code",
      "metadata": {
        "colab": {
          "base_uri": "https://localhost:8080/"
        },
        "id": "hKrPxyOufyOp",
        "outputId": "cd9d4524-e0c5-4258-a319-772427ec599b"
      },
      "source": [
        "# Order a DataFrame by ascending values\n",
        "df.orderBy(df[\"points\"].desc()).show(5)"
      ],
      "execution_count": null,
      "outputs": [
        {
          "output_type": "stream",
          "text": [
            "+-------+--------------------+--------------------+------+-----+----------+-----------+--------+--------------------+--------------------+\n",
            "|country|         description|         designation|points|price|  province|   region_1|region_2|             variety|              winery|\n",
            "+-------+--------------------+--------------------+------+-----+----------+-----------+--------+--------------------+--------------------+\n",
            "|     US|This is an absolu...|           IX Estate|    99|  290|California|Napa Valley|    Napa|           Red Blend|              Colgin|\n",
            "| France|98-100 Barrel sam...|       Barrel sample|    99| null|  Bordeaux|   Pauillac|    null|Bordeaux-style Re...|Ch̢teau Pontet-Canet|\n",
            "|     US|There are incredi...|Elevation 1147 Es...|    99|  150|California|Napa Valley|    Napa|  Cabernet Sauvignon|        David Arthur|\n",
            "| France|A magnificent Cha...|Dom P̩rignon Oeno...|    99|  385| Champagne|  Champagne|    null|     Champagne Blend|     Mo��t & Chandon|\n",
            "|  Italy|Even better than ...|             Masseto|    99|  250|   Tuscany|    Toscana|    null|              Merlot|Tenuta dell'Ornel...|\n",
            "+-------+--------------------+--------------------+------+-----+----------+-----------+--------+--------------------+--------------------+\n",
            "only showing top 5 rows\n",
            "\n"
          ],
          "name": "stdout"
        }
      ]
    },
    {
      "cell_type": "code",
      "metadata": {
        "colab": {
          "base_uri": "https://localhost:8080/"
        },
        "id": "W5X4zZQgj9Ga",
        "outputId": "8376490a-4551-42c9-cfaf-5f341af8ae4d"
      },
      "source": [
        "#Import functions\n",
        "from pyspark.sql.functions import avg\n",
        "df.select(avg(\"points\")).show()"
      ],
      "execution_count": null,
      "outputs": [
        {
          "output_type": "stream",
          "text": [
            "+-----------------+\n",
            "|      avg(points)|\n",
            "+-----------------+\n",
            "|87.88834105383143|\n",
            "+-----------------+\n",
            "\n"
          ],
          "name": "stdout"
        }
      ]
    },
    {
      "cell_type": "code",
      "metadata": {
        "colab": {
          "base_uri": "https://localhost:8080/"
        },
        "id": "NGxZH4H8j9JG",
        "outputId": "5cba9c27-4537-4b67-f4a8-29e8c0c0aadd"
      },
      "source": [
        "# Filter\n",
        "df.filter(\"price<20\").show(5)\n",
        "# Filter by price on certain columns\n",
        "df.filter(\"price<20\").select(['points','country', 'winery','price']).show(5)\n",
        "\n",
        "# Filter on exact state\n",
        "df.filter(df[\"country\"] == \"US\").show()"
      ],
      "execution_count": null,
      "outputs": [
        {
          "output_type": "stream",
          "text": [
            "+--------+--------------------+-----------+------+-----+----------+--------------------+-----------------+--------------+--------------------+\n",
            "| country|         description|designation|points|price|  province|            region_1|         region_2|       variety|              winery|\n",
            "+--------+--------------------+-----------+------+-----+----------+--------------------+-----------------+--------------+--------------------+\n",
            "|Bulgaria|This Bulgarian Ma...|    Bergul̩|    90|   15|  Bulgaria|                null|             null|        Mavrud|        Villa Melnik|\n",
            "|   Spain|Earthy plum and c...|     Amandi|    90|   17|   Galicia|       Ribeira Sacra|             null|       Menc�_a|      Don Bernardino|\n",
            "|      US|There's a lot to ...|       null|    90|   18|California|Russian River Valley|           Sonoma|    Chardonnay|            De Loach|\n",
            "|      US|Massively fruity,...|       null|    91|   19|    Oregon|   Willamette Valley|Willamette Valley|    Pinot Gris|   Trinity Vineyards|\n",
            "|Portugal|It is the ripe da...|    Premium|    91|   15|  Alentejo|                null|             null|Portuguese Red|Adega Cooperativa...|\n",
            "+--------+--------------------+-----------+------+-----+----------+--------------------+-----------------+--------------+--------------------+\n",
            "only showing top 5 rows\n",
            "\n",
            "+------+--------+--------------------+-----+\n",
            "|points| country|              winery|price|\n",
            "+------+--------+--------------------+-----+\n",
            "|    90|Bulgaria|        Villa Melnik|   15|\n",
            "|    90|   Spain|      Don Bernardino|   17|\n",
            "|    90|      US|            De Loach|   18|\n",
            "|    91|      US|   Trinity Vineyards|   19|\n",
            "|    91|Portugal|Adega Cooperativa...|   15|\n",
            "+------+--------+--------------------+-----+\n",
            "only showing top 5 rows\n",
            "\n",
            "+-------+--------------------+--------------------+------+-----+----------+--------------------+-----------------+------------------+--------------------+\n",
            "|country|         description|         designation|points|price|  province|            region_1|         region_2|           variety|              winery|\n",
            "+-------+--------------------+--------------------+------+-----+----------+--------------------+-----------------+------------------+--------------------+\n",
            "|     US|This tremendous 1...|   Martha's Vineyard|    96|  235|California|         Napa Valley|             Napa|Cabernet Sauvignon|               Heitz|\n",
            "|     US|Mac Watson honors...|Special Selected ...|    96|   90|California|      Knights Valley|           Sonoma|   Sauvignon Blanc|            Macauley|\n",
            "|     US|This spent 20 mon...|             Reserve|    96|   65|    Oregon|   Willamette Valley|Willamette Valley|        Pinot Noir|               Ponzi|\n",
            "|     US|This re-named vin...|              Silice|    95|   65|    Oregon|  Chehalem Mountains|Willamette Valley|        Pinot Noir|           Bergstr̦m|\n",
            "|     US|The producer sour...|Gap's Crown Vineyard|    95|   60|California|        Sonoma Coast|           Sonoma|        Pinot Noir|           Blue Farm|\n",
            "|     US|From 18-year-old ...|Estate Vineyard W...|    95|   48|    Oregon|        Ribbon Ridge|Willamette Valley|        Pinot Noir|Patricia Green Ce...|\n",
            "|     US|A standout even i...|      Weber Vineyard|    95|   48|    Oregon|        Dundee Hills|Willamette Valley|        Pinot Noir|Patricia Green Ce...|\n",
            "|     US|With its sophisti...|      Grace Vineyard|    95|  185|    Oregon|        Dundee Hills|Willamette Valley|        Pinot Noir|      Domaine Serene|\n",
            "|     US|First made in 200...|              Sigrid|    95|   90|    Oregon|   Willamette Valley|Willamette Valley|        Chardonnay|           Bergstr̦m|\n",
            "|     US|This blockbuster,...|     Rainin Vineyard|    95|  325|California|Diamond Mountain ...|             Napa|Cabernet Sauvignon|                Hall|\n",
            "|     US|This fresh and li...|Gap's Crown Vineyard|    95|   75|California|        Sonoma Coast|           Sonoma|        Pinot Noir|        Gary Farrell|\n",
            "|     US|Heitz has made th...|          Grignolino|    95|   24|California|         Napa Valley|             Napa|              Ros̩|               Heitz|\n",
            "|     US|The apogee of thi...|       Giallo Solare|    95|   60|California|         Edna Valley|    Central Coast|        Chardonnay|    Center of Effort|\n",
            "|     US|San Jose-based pr...|       R-Bar-R Ranch|    95|   45|California|Santa Cruz Mountains|    Central Coast|        Pinot Noir|            Comartin|\n",
            "|     US|Bergstr̦m has mad...|       Shea Vineyard|    94|   62|    Oregon|   Willamette Valley|             null|        Pinot Noir|           Bergstr̦m|\n",
            "|     US|Focused and dense...|             Abetina|    94|  105|    Oregon|   Willamette Valley|Willamette Valley|        Pinot Noir|               Ponzi|\n",
            "|     US|Cranberry, baked ...|     Garys' Vineyard|    94|   60|California|Santa Lucia Highl...|    Central Coast|        Pinot Noir|                Roar|\n",
            "|     US|This standout Roc...|     The Funk Estate|    94|   60|Washington|Walla Walla Valle...|  Columbia Valley|             Syrah|              Saviah|\n",
            "|     US|Steely and perfum...|            Babushka|    90|   37|California|Russian River Valley|           Sonoma|        Chardonnay|            Zepaltas|\n",
            "|     US|The aromas entice...| Conner Lee Vineyard|    90|   42|Washington|Columbia Valley (WA)|  Columbia Valley|        Chardonnay|                Buty|\n",
            "+-------+--------------------+--------------------+------+-----+----------+--------------------+-----------------+------------------+--------------------+\n",
            "only showing top 20 rows\n",
            "\n"
          ],
          "name": "stdout"
        }
      ]
    },
    {
      "cell_type": "code",
      "metadata": {
        "id": "KGvhNiccj9L_"
      },
      "source": [
        ""
      ],
      "execution_count": null,
      "outputs": []
    },
    {
      "cell_type": "code",
      "metadata": {
        "id": "B0wi4ZRvj9Oi"
      },
      "source": [
        ""
      ],
      "execution_count": null,
      "outputs": []
    },
    {
      "cell_type": "code",
      "metadata": {
        "id": "3WyPh37tj9RC"
      },
      "source": [
        ""
      ],
      "execution_count": null,
      "outputs": []
    },
    {
      "cell_type": "code",
      "metadata": {
        "id": "sy40wdnsj9TT"
      },
      "source": [
        ""
      ],
      "execution_count": null,
      "outputs": []
    },
    {
      "cell_type": "code",
      "metadata": {
        "id": "FFugt9OUj9Vk"
      },
      "source": [
        ""
      ],
      "execution_count": null,
      "outputs": []
    }
  ]
}