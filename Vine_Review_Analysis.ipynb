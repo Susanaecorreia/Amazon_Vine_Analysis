{
  "nbformat": 4,
  "nbformat_minor": 0,
  "metadata": {
    "colab": {
      "name": "Vine_Review_Analysis.ipynb",
      "provenance": [],
      "collapsed_sections": []
    },
    "kernelspec": {
      "name": "python3",
      "display_name": "Python 3"
    },
    "language_info": {
      "name": "python"
    }
  },
  "cells": [
    {
      "cell_type": "code",
      "metadata": {
        "colab": {
          "base_uri": "https://localhost:8080/"
        },
        "id": "ihbXk9Pp9nzd",
        "outputId": "18833d5d-4a1f-45fc-b70b-449a69017bad"
      },
      "source": [
        "import os\n",
        "# Find the latest version of spark 3.0  from http://www-us.apache.org/dist/spark/ and enter as the spark version\n",
        "# For example:\n",
        "# spark_version = 'spark-3.0.2'\n",
        "spark_version = 'spark-3.1.2'\n",
        "os.environ['SPARK_VERSION']=spark_version\n",
        "\n",
        "# Install Spark and Java\n",
        "!apt-get update\n",
        "!apt-get install openjdk-11-jdk-headless -qq > /dev/null\n",
        "!wget -q http://www-us.apache.org/dist/spark/$SPARK_VERSION/$SPARK_VERSION-bin-hadoop2.7.tgz\n",
        "!tar xf $SPARK_VERSION-bin-hadoop2.7.tgz\n",
        "!pip install -q findspark\n",
        "\n",
        "# Set Environment Variables\n",
        "import os\n",
        "os.environ[\"JAVA_HOME\"] = \"/usr/lib/jvm/java-11-openjdk-amd64\"\n",
        "os.environ[\"SPARK_HOME\"] = f\"/content/{spark_version}-bin-hadoop2.7\"\n",
        "\n",
        "# Start a SparkSession\n",
        "import findspark\n",
        "findspark.init()"
      ],
      "execution_count": 1,
      "outputs": [
        {
          "output_type": "stream",
          "text": [
            "Get:1 https://cloud.r-project.org/bin/linux/ubuntu bionic-cran40/ InRelease [3,626 B]\n",
            "Ign:2 https://developer.download.nvidia.com/compute/cuda/repos/ubuntu1804/x86_64  InRelease\n",
            "Get:3 http://security.ubuntu.com/ubuntu bionic-security InRelease [88.7 kB]\n",
            "Get:4 http://ppa.launchpad.net/c2d4u.team/c2d4u4.0+/ubuntu bionic InRelease [15.9 kB]\n",
            "Ign:5 https://developer.download.nvidia.com/compute/machine-learning/repos/ubuntu1804/x86_64  InRelease\n",
            "Hit:6 https://developer.download.nvidia.com/compute/cuda/repos/ubuntu1804/x86_64  Release\n",
            "Hit:7 https://developer.download.nvidia.com/compute/machine-learning/repos/ubuntu1804/x86_64  Release\n",
            "Hit:8 http://archive.ubuntu.com/ubuntu bionic InRelease\n",
            "Get:10 http://archive.ubuntu.com/ubuntu bionic-updates InRelease [88.7 kB]\n",
            "Hit:12 http://ppa.launchpad.net/cran/libgit2/ubuntu bionic InRelease\n",
            "Get:13 http://ppa.launchpad.net/deadsnakes/ppa/ubuntu bionic InRelease [15.9 kB]\n",
            "Get:14 http://archive.ubuntu.com/ubuntu bionic-backports InRelease [74.6 kB]\n",
            "Get:15 http://security.ubuntu.com/ubuntu bionic-security/universe amd64 Packages [1,414 kB]\n",
            "Hit:16 http://ppa.launchpad.net/graphics-drivers/ppa/ubuntu bionic InRelease\n",
            "Get:17 http://archive.ubuntu.com/ubuntu bionic-updates/multiverse amd64 Packages [33.5 kB]\n",
            "Get:18 http://ppa.launchpad.net/c2d4u.team/c2d4u4.0+/ubuntu bionic/main Sources [1,770 kB]\n",
            "Get:19 http://archive.ubuntu.com/ubuntu bionic-updates/main amd64 Packages [2,616 kB]\n",
            "Get:20 http://security.ubuntu.com/ubuntu bionic-security/main amd64 Packages [2,184 kB]\n",
            "Get:21 http://security.ubuntu.com/ubuntu bionic-security/restricted amd64 Packages [450 kB]\n",
            "Get:22 http://archive.ubuntu.com/ubuntu bionic-updates/universe amd64 Packages [2,184 kB]\n",
            "Get:23 http://archive.ubuntu.com/ubuntu bionic-updates/restricted amd64 Packages [480 kB]\n",
            "Get:24 http://ppa.launchpad.net/c2d4u.team/c2d4u4.0+/ubuntu bionic/main amd64 Packages [906 kB]\n",
            "Get:25 http://ppa.launchpad.net/deadsnakes/ppa/ubuntu bionic/main amd64 Packages [40.9 kB]\n",
            "Fetched 12.4 MB in 7s (1,723 kB/s)\n",
            "Reading package lists... Done\n"
          ],
          "name": "stdout"
        }
      ]
    },
    {
      "cell_type": "code",
      "metadata": {
        "id": "Tbo-pQND9wnk"
      },
      "source": [
        "from pyspark.sql import SparkSession\n",
        "spark = SparkSession.builder.appName(\"BigData-Challenge\").config(\"spark.driver.extraClassPath\",\"/content/postgresql-42.2.16.jar\").getOrCreate()"
      ],
      "execution_count": 3,
      "outputs": []
    },
    {
      "cell_type": "code",
      "metadata": {
        "colab": {
          "base_uri": "https://localhost:8080/"
        },
        "id": "iI-lhu2S9wqL",
        "outputId": "ee7ad13c-420d-47dc-ac09-9eeaf50426b5"
      },
      "source": [
        "from pyspark import SparkFiles\n",
        "url = \"https://s3.amazonaws.com/amazon-reviews-pds/tsv/amazon_reviews_multilingual_US_v1_00.tsv.gz\"\n",
        "spark.sparkContext.addFile(url)\n",
        "df = spark.read.option(\"encoding\", \"UTF-8\").csv(SparkFiles.get(\"\"), sep=\"\\t\", header=True, inferSchema=True)\n",
        "df.show()"
      ],
      "execution_count": 4,
      "outputs": [
        {
          "output_type": "stream",
          "text": [
            "+-----------+-----------+--------------+----------+--------------+--------------------+----------------+-----------+-------------+-----------+----+-----------------+--------------------+--------------------+-----------+\n",
            "|marketplace|customer_id|     review_id|product_id|product_parent|       product_title|product_category|star_rating|helpful_votes|total_votes|vine|verified_purchase|     review_headline|         review_body|review_date|\n",
            "+-----------+-----------+--------------+----------+--------------+--------------------+----------------+-----------+-------------+-----------+----+-----------------+--------------------+--------------------+-----------+\n",
            "|         US|   53096384| R63J84G1LOX6R|1563890119|     763187671|The Sandman Vol. ...|           Books|          4|            0|          1|   N|                N|ignore the review...|this is the first...| 1995-08-13|\n",
            "|         US|   53096399|R1BALOA11Z06MT|1559947608|     381720534|The 22 Immutable ...|           Books|          4|            0|          0|   N|                N|             awesome|I've always been ...| 1995-08-17|\n",
            "|         US|   53096332|R1LLAY5W5PZUS4|0671701800|     860650224|             Contact|           Books|          5|            1|          2|   N|                N|Read the book. It...|This is a book ab...| 1995-08-30|\n",
            "|         US|   53096335|R3R9VTJ82FXECQ|0425132153|     624269601|          Good Omens|           Books|          5|            0|          0|   N|                N|Funniest book eve...|This is quite pos...| 1995-09-11|\n",
            "|         US|   51747709|R1P5J3FNBWTFXY|0517122707|     161411385|A Confederacy of ...|           Books|          5|            0|          0|   N|                N|A winner that did...|The story behind ...| 1995-10-17|\n",
            "|         US|   53095881|R2XQTCOBWNCEAC|0345350499|     627223385| The Mists of Avalon|           Books|          5|            0|          0|   N|                N|One of the best b...|Marion Zimmer Bra...| 1995-11-02|\n",
            "|         US|   53096485|  R87VUTMFOE6N|B000002OTL|     877615083|Pulp Fiction: Mus...|           Music|          5|            0|          1|   N|                N|Pulp Fiction Soun...|Pulp Fiction the ...| 1995-11-11|\n",
            "|         US|   53096485| RVS529AN21RR3|6302136105|     701401373|     The Doors [VHS]|           Video|          5|            1|          2|   N|                N|The Doors: The be...|The Doors is one ...| 1995-11-11|\n",
            "|         US|   53095748| RG6LPC4W8LN29|0399134204|      31287929|   The Joy Luck Club|           Books|          5|            0|          1|   N|                N|Gives a deeper un...|The book in some ...| 1995-11-15|\n",
            "|         US|   53071277| RDFIE1IF0IYFH|0887306667|     381720534|The 22 Immutable ...|           Books|          5|            0|          0|   N|                N|One of the best m...|This book is a fa...| 1996-05-12|\n",
            "|         US|   53092169|R118UFZDTS9K8P|044022165X|     511419057|       The Rainmaker|           Books|          5|            2|          2|   N|                N|A definite page t...|John Grisham's Th...| 1996-05-15|\n",
            "|         US|   53091057|R3M7XTU4Y95NV6|0425107469|      50861192|            Watchers|           Books|          5|            1|          2|   N|                N|The best book tha...|This was my first...| 1996-05-17|\n",
            "|         US|   53092180|R1KLWU5B78FKDR|0880389052|     243097701|Homeland (Forgott...|           Books|          5|            1|          1|   N|                N|Homeland is the b...|I usually don't l...| 1996-05-17|\n",
            "|         US|   53068480|R1BGW1GTUGJZXJ|0446310786|     994527755|To Kill a Mocking...|           Books|          5|            0|          1|   N|                N|Extraordinary sto...|On the surface, f...| 1996-05-18|\n",
            "|         US|   53092058| R5UI1Q87QAZKH|0385040199|     636860937|Anne Frank: Diary...|           Books|          5|            1|          1|   N|                N|How do you review...|How do you review...| 1996-05-19|\n",
            "|         US|   52152881| R4X9DR0KSYFXD|B000001FBU|     880908728|Creatures of the ...|           Music|          4|            1|          1|   N|                N|Kiss' return to h...|After briefly vis...| 1996-05-20|\n",
            "|         US|   53091884|R1TOE3LHCXE3DO|0679731377|      62087535|A History of the ...|           Books|          5|            0|          0|   N|                N|The best book I'v...|Barnes is a true ...| 1996-05-21|\n",
            "|         US|   53093609|R3IME3JO53P3EM|0451169514|     380266608|                  It|           Books|          5|            1|          1|   N|                N|One of Stephen Ki...|I have to say, th...| 1996-05-22|\n",
            "|         US|   53081592| R63DTB2NEMWYE|0316920045|     669738240|Infinite Jest: A ...|           Books|          5|            0|          1|   N|                N|Infinite Jest: I'...|I've been waiting...| 1996-05-23|\n",
            "|         US|   52510867|R1PY156QM1IKZN|0451175123|     594264062|The Fountainhead:...|           Books|          5|            0|          0|   N|                N|Powerful work of ...|Ayn Rand was the ...| 1996-05-23|\n",
            "+-----------+-----------+--------------+----------+--------------+--------------------+----------------+-----------+-------------+-----------+----+-----------------+--------------------+--------------------+-----------+\n",
            "only showing top 20 rows\n",
            "\n"
          ],
          "name": "stdout"
        }
      ]
    },
    {
      "cell_type": "code",
      "metadata": {
        "colab": {
          "base_uri": "https://localhost:8080/"
        },
        "id": "jpsQwfYp9wsr",
        "outputId": "3a0dc285-1e36-4345-be26-0550030bb424"
      },
      "source": [
        "#filter the dataset for total_votes being greater than or equal to 20\n",
        "df1 = df.filter(df.total_votes >= 20)\n",
        "df1.show(5)"
      ],
      "execution_count": 18,
      "outputs": [
        {
          "output_type": "stream",
          "text": [
            "+-----------+-----------+--------------+----------+--------------+--------------------+----------------+-----------+-------------+-----------+----+-----------------+--------------------+--------------------+-----------+\n",
            "|marketplace|customer_id|     review_id|product_id|product_parent|       product_title|product_category|star_rating|helpful_votes|total_votes|vine|verified_purchase|     review_headline|         review_body|review_date|\n",
            "+-----------+-----------+--------------+----------+--------------+--------------------+----------------+-----------+-------------+-----------+----+-----------------+--------------------+--------------------+-----------+\n",
            "|         US|   53088143| RFONLV2ZLVA4E|0345349571|     162225088|A Distant Mirror:...|           Books|          2|           19|         39|   N|                N|Fact-filled, but ...|Barbara Tuchman's...| 1996-07-10|\n",
            "|         US|   53079289|R1JF53VJD09VQK|0440211727|     883917886|      A Time to Kill|           Books|          5|          163|        176|   N|                N|     Its about Time!|Finally, A Time t...| 1996-07-26|\n",
            "|         US|   53044757| R9VRI1SV9D6YQ|0312853238|     401439625|Ender's Game (The...|           Books|          1|           12|         32|   N|                N|The Most Overrate...|The most intrigui...| 1996-09-16|\n",
            "|         US|   52080370|  RPYUQ03K25X9|0821221841|     350326281|Ansel Adams: The ...|           Books|          5|          125|        129|   N|                N|Wanna learn to ta...|Einstein wrote a ...| 1996-10-06|\n",
            "|         US|   52416488|R1YOBH2BNXEYAQ|1559723505|      61059309|The Highly Sensit...|           Books|          4|           42|         45|   N|                N|Groundbreaking re...|Through solid res...| 1996-10-09|\n",
            "+-----------+-----------+--------------+----------+--------------+--------------------+----------------+-----------+-------------+-----------+----+-----------------+--------------------+--------------------+-----------+\n",
            "only showing top 5 rows\n",
            "\n"
          ],
          "name": "stdout"
        }
      ]
    },
    {
      "cell_type": "code",
      "metadata": {
        "colab": {
          "base_uri": "https://localhost:8080/"
        },
        "id": "GNACC8hp9wvN",
        "outputId": "fd1258fc-e3c1-4f9e-e35b-0113c10d646d"
      },
      "source": [
        "# Filter DataFrame for helpful_votes ratio above or equal to 50%\n",
        "df2 = df1.filter((df1.helpful_votes / df1.total_votes) >= 0.5)\n",
        "df2.show(5)\n"
      ],
      "execution_count": 19,
      "outputs": [
        {
          "output_type": "stream",
          "text": [
            "+-----------+-----------+--------------+----------+--------------+--------------------+----------------+-----------+-------------+-----------+----+-----------------+--------------------+--------------------+-----------+\n",
            "|marketplace|customer_id|     review_id|product_id|product_parent|       product_title|product_category|star_rating|helpful_votes|total_votes|vine|verified_purchase|     review_headline|         review_body|review_date|\n",
            "+-----------+-----------+--------------+----------+--------------+--------------------+----------------+-----------+-------------+-----------+----+-----------------+--------------------+--------------------+-----------+\n",
            "|         US|   53079289|R1JF53VJD09VQK|0440211727|     883917886|      A Time to Kill|           Books|          5|          163|        176|   N|                N|     Its about Time!|Finally, A Time t...| 1996-07-26|\n",
            "|         US|   52080370|  RPYUQ03K25X9|0821221841|     350326281|Ansel Adams: The ...|           Books|          5|          125|        129|   N|                N|Wanna learn to ta...|Einstein wrote a ...| 1996-10-06|\n",
            "|         US|   52416488|R1YOBH2BNXEYAQ|1559723505|      61059309|The Highly Sensit...|           Books|          4|           42|         45|   N|                N|Groundbreaking re...|Through solid res...| 1996-10-09|\n",
            "|         US|   53066866|R1Z5UUSESTXUES|0140185232|     579488546|    The Razor's Edge|           Books|          5|           27|         29|   N|                N|This book may cha...|I think I may hav...| 1996-10-15|\n",
            "|         US|   53081670| RMF6NQPBC6I4S|0393039102|     590668409|The Railway Man: ...|           Books|          5|           78|         81|   N|                N|The human side of...|In this work of E...| 1996-10-18|\n",
            "+-----------+-----------+--------------+----------+--------------+--------------------+----------------+-----------+-------------+-----------+----+-----------------+--------------------+--------------------+-----------+\n",
            "only showing top 5 rows\n",
            "\n"
          ],
          "name": "stdout"
        }
      ]
    },
    {
      "cell_type": "code",
      "metadata": {
        "colab": {
          "base_uri": "https://localhost:8080/"
        },
        "id": "GfmDglqt9wxd",
        "outputId": "5334fbfe-3146-482d-b53b-cddf26b71e15"
      },
      "source": [
        "# Create paid vine DataFrame\n",
        "paid_df = df2.filter(df2.vine == 'Y')\n",
        "paid_df.show(5)"
      ],
      "execution_count": 20,
      "outputs": [
        {
          "output_type": "stream",
          "text": [
            "+-----------+-----------+--------------+----------+--------------+--------------------+----------------+-----------+-------------+-----------+----+-----------------+--------------------+--------------------+-----------+\n",
            "|marketplace|customer_id|     review_id|product_id|product_parent|       product_title|product_category|star_rating|helpful_votes|total_votes|vine|verified_purchase|     review_headline|         review_body|review_date|\n",
            "+-----------+-----------+--------------+----------+--------------+--------------------+----------------+-----------+-------------+-----------+----+-----------------+--------------------+--------------------+-----------+\n",
            "|         US|   41036875|R1482JAU1ZR7QH|B0010VD7EO|     600781030|Oracular Spectacular|           Music|          4|           15|         22|   Y|                N|Be open-minded an...|This album is lik...| 2008-05-04|\n",
            "|         US|   50779580|R1XH7EA97FAVP7|B0010VD7EO|     600781030|Oracular Spectacular|           Music|          3|           35|         44|   Y|                N|Neo-psychedelic F...|I've heard compla...| 2008-05-06|\n",
            "|         US|   52760003|R2CIM93A45YW2X|0439023483|     245449872|The Hunger Games ...|           Books|          5|           19|         30|   Y|                N|I devoured it in ...|I didn't really h...| 2008-08-28|\n",
            "|         US|   52994769|R2NCJUJ9MOZIWV|0307269752|     588640480|The Girl with the...|           Books|          2|          714|        886|   Y|                N|Less than I expec...|Henrik Vanger, an...| 2008-09-18|\n",
            "|         US|   39699233|R1DXUX8DQUIM2J|1596434252|     420384599|               ABC3D|           Books|          5|           24|         26|   Y|                N|Intriguing ABCs f...|My husband opened...| 2008-09-24|\n",
            "+-----------+-----------+--------------+----------+--------------+--------------------+----------------+-----------+-------------+-----------+----+-----------------+--------------------+--------------------+-----------+\n",
            "only showing top 5 rows\n",
            "\n"
          ],
          "name": "stdout"
        }
      ]
    },
    {
      "cell_type": "code",
      "metadata": {
        "colab": {
          "base_uri": "https://localhost:8080/"
        },
        "id": "kUvBPhNU9wz-",
        "outputId": "a2fcae89-f56e-4aeb-af3a-31d6f387f1bb"
      },
      "source": [
        "# Create unpaid vine DataFrame\n",
        "unpaid_df = df2.filter(df2.vine == 'N')\n",
        "unpaid_df.show(5)"
      ],
      "execution_count": 21,
      "outputs": [
        {
          "output_type": "stream",
          "text": [
            "+-----------+-----------+--------------+----------+--------------+--------------------+----------------+-----------+-------------+-----------+----+-----------------+--------------------+--------------------+-----------+\n",
            "|marketplace|customer_id|     review_id|product_id|product_parent|       product_title|product_category|star_rating|helpful_votes|total_votes|vine|verified_purchase|     review_headline|         review_body|review_date|\n",
            "+-----------+-----------+--------------+----------+--------------+--------------------+----------------+-----------+-------------+-----------+----+-----------------+--------------------+--------------------+-----------+\n",
            "|         US|   53079289|R1JF53VJD09VQK|0440211727|     883917886|      A Time to Kill|           Books|          5|          163|        176|   N|                N|     Its about Time!|Finally, A Time t...| 1996-07-26|\n",
            "|         US|   52080370|  RPYUQ03K25X9|0821221841|     350326281|Ansel Adams: The ...|           Books|          5|          125|        129|   N|                N|Wanna learn to ta...|Einstein wrote a ...| 1996-10-06|\n",
            "|         US|   52416488|R1YOBH2BNXEYAQ|1559723505|      61059309|The Highly Sensit...|           Books|          4|           42|         45|   N|                N|Groundbreaking re...|Through solid res...| 1996-10-09|\n",
            "|         US|   53066866|R1Z5UUSESTXUES|0140185232|     579488546|    The Razor's Edge|           Books|          5|           27|         29|   N|                N|This book may cha...|I think I may hav...| 1996-10-15|\n",
            "|         US|   53081670| RMF6NQPBC6I4S|0393039102|     590668409|The Railway Man: ...|           Books|          5|           78|         81|   N|                N|The human side of...|In this work of E...| 1996-10-18|\n",
            "+-----------+-----------+--------------+----------+--------------+--------------------+----------------+-----------+-------------+-----------+----+-----------------+--------------------+--------------------+-----------+\n",
            "only showing top 5 rows\n",
            "\n"
          ],
          "name": "stdout"
        }
      ]
    },
    {
      "cell_type": "code",
      "metadata": {
        "colab": {
          "base_uri": "https://localhost:8080/"
        },
        "id": "YD8zKuP6-nTf",
        "outputId": "e9ad3a83-0b75-4ccd-8938-48dcc6adb3b9"
      },
      "source": [
        "# paid total number of reviews\n",
        "total_paid_reviews = paid_df.count()\n",
        "total_paid_reviews"
      ],
      "execution_count": 22,
      "outputs": [
        {
          "output_type": "execute_result",
          "data": {
            "text/plain": [
              "543"
            ]
          },
          "metadata": {
            "tags": []
          },
          "execution_count": 22
        }
      ]
    },
    {
      "cell_type": "code",
      "metadata": {
        "colab": {
          "base_uri": "https://localhost:8080/"
        },
        "id": "GHXcoxq0G5w0",
        "outputId": "5f74b2e6-d939-4358-e2f9-42eba7272349"
      },
      "source": [
        "# unpaid total number of reviews\n",
        "total_unpaid_reviews = unpaid_df.count()\n",
        "total_unpaid_reviews"
      ],
      "execution_count": 29,
      "outputs": [
        {
          "output_type": "execute_result",
          "data": {
            "text/plain": [
              "112803"
            ]
          },
          "metadata": {
            "tags": []
          },
          "execution_count": 29
        }
      ]
    },
    {
      "cell_type": "code",
      "metadata": {
        "colab": {
          "base_uri": "https://localhost:8080/"
        },
        "id": "Ua0HkX3E-nZW",
        "outputId": "55ca629f-265f-420b-f218-439e5f0e2593"
      },
      "source": [
        "# paid 5-star reviews\n",
        "paid_five_star_reviews = paid_df.filter(paid_df.star_rating == 5).count()\n",
        "paid_five_star_reviews"
      ],
      "execution_count": 23,
      "outputs": [
        {
          "output_type": "execute_result",
          "data": {
            "text/plain": [
              "241"
            ]
          },
          "metadata": {
            "tags": []
          },
          "execution_count": 23
        }
      ]
    },
    {
      "cell_type": "code",
      "metadata": {
        "colab": {
          "base_uri": "https://localhost:8080/"
        },
        "id": "l43PHljKHIGU",
        "outputId": "9c8c3510-a957-4d32-bf4d-5ac591e19824"
      },
      "source": [
        "# unpaid 5-star reviews\n",
        "unpaid_five_star_reviews = unpaid_df.filter(unpaid_df.star_rating == 5).count()\n",
        "unpaid_five_star_reviews"
      ],
      "execution_count": 30,
      "outputs": [
        {
          "output_type": "execute_result",
          "data": {
            "text/plain": [
              "52195"
            ]
          },
          "metadata": {
            "tags": []
          },
          "execution_count": 30
        }
      ]
    },
    {
      "cell_type": "code",
      "metadata": {
        "colab": {
          "base_uri": "https://localhost:8080/"
        },
        "id": "S_CaBBkk-nft",
        "outputId": "5afac1a1-9dee-4895-c986-b473301a48df"
      },
      "source": [
        "# paid 5-star reviews percentage\n",
        "paid_five_star_percent = (paid_five_star_reviews / total_paid_reviews) * 100\n",
        "paid_five_star_percent"
      ],
      "execution_count": 24,
      "outputs": [
        {
          "output_type": "execute_result",
          "data": {
            "text/plain": [
              "44.38305709023941"
            ]
          },
          "metadata": {
            "tags": []
          },
          "execution_count": 24
        }
      ]
    },
    {
      "cell_type": "code",
      "metadata": {
        "colab": {
          "base_uri": "https://localhost:8080/"
        },
        "id": "6p_o5dCv-uFB",
        "outputId": "80b674ac-8b53-41ab-e9c1-eb7aa67ee7ff"
      },
      "source": [
        "# unpaid 5-star reviews percentage\n",
        "unpaid_five_star_percent = (unpaid_five_star_reviews / total_unpaid_reviews) * 100\n",
        "unpaid_five_star_percent"
      ],
      "execution_count": 28,
      "outputs": [
        {
          "output_type": "execute_result",
          "data": {
            "text/plain": [
              "46.27093251066018"
            ]
          },
          "metadata": {
            "tags": []
          },
          "execution_count": 28
        }
      ]
    }
  ]
}